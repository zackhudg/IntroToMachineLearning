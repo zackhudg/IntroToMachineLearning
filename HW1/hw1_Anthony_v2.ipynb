{
 "cells": [
  {
   "cell_type": "markdown",
   "metadata": {},
   "source": [
    "❗Before starting, make sure the following files are in the same directory as your Jupyter notebook:\n",
    " - train_data.pgz\n",
    " - test_data.pgz\n",
    " - vocab_list.pgz\n",
    " - train_id.pgz\n",
    " \n",
    " You can download these files from `Sakai > Resources > HW1`."
   ]
  },
  {
   "cell_type": "markdown",
   "metadata": {},
   "source": [
    "# Homework 1: Ridge logistic regression\n",
    "In this homework, the objective is to train a model for a **<span style='background :greenyellow'>binary classification** task. Specifically, the task is to classify movie reviews (submitted by users on IMDb) as either positive (\"It was a great film!\") or negative (\"Absolute trash!\").\n",
    "\n",
    "### The dataset\n",
    "Regarding the data, the reviews are *not* represented as raw text, but instead as word-frequency vectors. That is, in their raw form, each review is represented by a 1000-dimensional real-valued vector. (Note that we have a vocab list of 1000 words.) Given one \"review\" vector, each value within that vector is a normalized frequency (or count) of that word in the given review. \n",
    "\n",
    "Each word-frequency vector is paired with a label, either -1 (negative, bad) or 1 (positive, good).\n",
    "\n",
    "### The model\n",
    "You will implement a **<span style='background :greenyellow'>ridge-regularized logistic regression** model, trained by gradient ascent, to solve this binary classification problem. It will be trained on the provided training set. You'll try out different values for the regularization parameter (or \"ridge term\"), and report the corresponding accuracies on the validation set.\n",
    "\n",
    "Once the model is trained to satisfaction, you will evaluate the model's performance on the test set, and report which vocab words were the most \"confusing\" to the model for a given review, that is, words that lead to that review being misclassified. "
   ]
  },
  {
   "cell_type": "markdown",
   "metadata": {},
   "source": [
    "## Import libraries and load dataset."
   ]
  },
  {
   "cell_type": "code",
   "execution_count": 1,
   "metadata": {},
   "outputs": [],
   "source": [
    "import matplotlib.pyplot as plt   \n",
    "import gzip\n",
    "import numpy as np\n",
    "%matplotlib inline\n",
    "\n",
    "import time\n",
    "import urllib\n",
    "import os.path\n",
    "import sys\n",
    "\n",
    "try:\n",
    "    import cPickle as pickle\n",
    "    kwargs = {}\n",
    "except:\n",
    "    import _pickle as pickle\n",
    "    kwargs = {'encoding':'bytes'}\n",
    "    \n",
    "versionName = sys.version_info\n",
    "if versionName[0] == 2:\n",
    "    import urllib as U\n",
    "elif versionName[0] == 3:\n",
    "    import urllib.request as U"
   ]
  },
  {
   "cell_type": "code",
   "execution_count": 2,
   "metadata": {},
   "outputs": [
    {
     "name": "stdout",
     "output_type": "stream",
     "text": [
      "Wall time: 0 ns\n"
     ]
    }
   ],
   "source": [
    "train_data, train_label = pickle.load( gzip.open( \"train_data.pgz\", \"rb\" ), **kwargs )\n",
    "test_data = pickle.load( gzip.open( \"test_data.pgz\", \"rb\" ),**kwargs )\n",
    "vocab_list = pickle.load( gzip.open( \"vocab_list.pgz\", \"rb\" ),**kwargs )\n",
    "\n",
    "train_label = np.asarray(train_label)\n",
    "\n",
    "trainData = train_data[:10000, :]\n",
    "validData = train_data[10000:15000, :]\n",
    "trainLabel = train_label[:10000]\n",
    "validLabel = train_label[10000:15000]\n",
    "testData = test_data[:10000, :]\n",
    "\n",
    "%time"
   ]
  },
  {
   "cell_type": "markdown",
   "metadata": {},
   "source": [
    "# 0. Relevant and super important definitions\n",
    "\n",
    "Data are given as $D = {(\\mathbf{x}_i, y_i):, i = 1...n}$, where $y_i \\in \\{-1, +1\\}$, and $\\mathbf{x}_i \\in R^p$. </br>\n",
    "There are $n$ samples. Each sample has $p$ features. </br>\n",
    "\n",
    "For logistic regression, \n",
    "* We have model parameters: $\\mathbf{w} \\in R^p$ for the weight term, and $b$ for the bias term.\n",
    "<br>\n",
    "* For a sample $x$ and its label $y$, we have the following probability function: \n",
    "\n",
    "   $\\large p(y|\\mathbf{x}, \\mathbf{w}, b) = \\frac{1}{1+exp\\{-y(\\mathbf{w} \\cdot \\mathbf{x} + b)\\}}$ \n",
    "<br>\n",
    "* We will include the bias term in the weight vector. Therefore, our feature and weight vectors will be defined as follows: \n",
    "\n",
    "   $\\large x' = \\begin{bmatrix} 1\\\\ x \\end{bmatrix}$ and $\\large \\mathbf{w}' =  \\begin{bmatrix} b\\\\ \\mathbf{w} \\end{bmatrix}$\n",
    "<br>\n",
    "\n",
    "    * But for brevity, we will still use notations $x, \\mathbf{w}$ as $x', \\mathbf{w}'$. \n",
    "    * The first entry of the vector $\\mathbf{w}'$ is the bias term and the remaining entries are feature weights. In code, you can use `w[0]` to access the bias term and `w[1:]` to access the feature weights. \n",
    "    * We do this concatenation for you in the code block below."
   ]
  },
  {
   "cell_type": "code",
   "execution_count": 3,
   "metadata": {},
   "outputs": [],
   "source": [
    "# Concatenation such that the first feature becomes the bias term.\n",
    "train_data_pad = np.concatenate((np.ones((trainData.shape[0], 1)), trainData), axis=1)\n",
    "test_data_pad = np.concatenate((np.ones((testData.shape[0], 1)), testData), axis=1)\n",
    "valid_data_pad = np.concatenate((np.ones((validData.shape[0], 1)), validData), axis=1)"
   ]
  },
  {
   "cell_type": "markdown",
   "metadata": {},
   "source": [
    "# I. Likelihood expression"
   ]
  },
  {
   "cell_type": "markdown",
   "metadata": {},
   "source": [
    "1) **<span style='background :yellow'>(1pt)</span>** <font color=blue> Write out the likelihood function, $\\mathcal{L}(\\mathbf{w})$, of logistic regression. </font> (Your variables will not be the ones used in lecture. Refer back to the definitions given in Section 0.)\n",
    "<br><br>\n",
    "\n",
    "<font color=blue>  \n",
    "    \n",
    "$$ \n",
    "\\mathcal{L}(\\mathbf{w}) = \\prod_i \\frac{1}{1+exp\\{-y_i(\\mathbf{w} \\cdot \\mathbf{x_i} + b)\\}}\n",
    "$$\n",
    "\n",
    "\n",
    "    \n",
    "2) **<span style='background :yellow'>(1pt)</span>** <font color=blue> Write out the log-likelihood function, $\\mathcal{L}\\mathcal{L}(\\mathbf{w})$. <font color=black> (i.e. Take the log of your answer to Question 1.) \n",
    "<br><br>\n",
    "    \n",
    "<font color=blue>   \n",
    "    \n",
    "$$ \n",
    "\\mathcal{L}\\mathcal{L}(\\mathbf{w}) = -\\sum_i log\\{{1+exp\\{-y_i(\\mathbf{w} \\cdot \\mathbf{x_i} + b)\\}}\\} \n",
    "$$\n",
    "    \n",
    "    \n",
    "    \n",
    "3) **<span style='background :yellow'>(1pt)</span>** <font color=blue> Add on a ridge penalty term to the log-likelihood function. <font color=black> The weight of the ridge penalty is $\\alpha$. <br> \n",
    "(*Hint: Do not include $w_0$ in the ridge term!!*)\n",
    "<br><br>\n",
    "    \n",
    "<font color=blue>   \n",
    "    \n",
    "$$    \n",
    "P\\mathcal{L}\\mathcal{L}(\\mathbf{w}) = -\\sum_i log\\{{1+exp\\{-y_i(\\mathbf{w} \\cdot \\mathbf{x_i} + b)\\}}\\}   - \\frac{\\alpha}{2}\\sum_{j=1}^{p} w_j^{2}\n",
    "$$\n",
    "    \n",
    "    \n",
    "4) **<span style='background :yellow'>(1pt)</span>** <font color=blue> In the cell below, replace the ellipses (three of them) with code to complete `loglikelihood`, a function that computes the ridge-regularized log-likelihood for `w` given the data `X`,."
   ]
  },
  {
   "cell_type": "code",
   "execution_count": 4,
   "metadata": {},
   "outputs": [],
   "source": [
    "def loglikelihood(w, X, y, alpha): \n",
    "    # w is a vector, X is a n*p matrix, and y is a vector.\n",
    "    tmp = 1. + np.exp(-y*(X.dot(w)))                          ## FILL-IN-THE-BLANK ## \n",
    "    return -np.sum( np.log(tmp) ) - (alpha/2.)*np.sum( w[1:]**2 )   ## FILL-IN-THE-BLANK ## "
   ]
  },
  {
   "cell_type": "code",
   "execution_count": 5,
   "metadata": {},
   "outputs": [
    {
     "name": "stdout",
     "output_type": "stream",
     "text": [
      "Passed test? True\n"
     ]
    }
   ],
   "source": [
    "# Small test to check that function works.\n",
    "np.random.seed(1)\n",
    "X = np.random.randn(2,3)\n",
    "y = np.array([1,-1])\n",
    "w = np.ones(3)\n",
    "w[[1]] = -1\n",
    "\n",
    "ur_answer = loglikelihood(w, X, y, 1)\n",
    "expected =  -np.log(1+np.exp(-1*(X[0,0]-X[0,1]+X[0,2]))) \\\n",
    "- np.log(1+np.exp(1*(X[1,0]-X[1,1]+X[1,2]))) -1/2.*np.sum(w[1:]**2)\n",
    "\n",
    "\n",
    "did_u_pass = (ur_answer==expected)\n",
    "\n",
    "print(f\"Passed test? {did_u_pass}\")"
   ]
  },
  {
   "cell_type": "markdown",
   "metadata": {},
   "source": [
    "# II. Gradient ascent derivation\n",
    "\n",
    "In order to optimize the log-likelihood function, we want to take its derivative w.r.t. each parameter in $\\mathbf{w}$, and then update $\\mathbf{w}$ according to the direction of the resultant gradient."
   ]
  },
  {
   "cell_type": "markdown",
   "metadata": {},
   "source": [
    "$$    \n",
    "P\\mathcal{L}\\mathcal{L}(\\mathbf{w}) = -\\sum_i log\\{{1+exp\\{-y_i(\\mathbf{w} \\cdot \\mathbf{x_i} + b)\\}}\\}   - \\frac{\\alpha}{2}\\sum_{j=1}^{p} w_j^{2}\n",
    "$$"
   ]
  },
  {
   "cell_type": "markdown",
   "metadata": {},
   "source": [
    "5) **<span style='background :yellow'>(1pt)</span>** <font color=blue> Write out the derivative of the ridge-penalized log-likelihood function (your answer to Question 3) w.r.t. **both $w_0$ and $w_j$**. </font> (*Hint: Remember that the bias term is $w_0$. Treat it separately from the rest of $w_j$, $j\\in\\{1,...,p\\}$!!*)\n",
    "<br><br>\n",
    "    \n",
    "<font color=blue>   \n",
    "    \n",
    "\n",
    "$$\n",
    "\\frac{\\partial P\\mathcal{L}\\mathcal{L}(\\mathbf{w})}{ \\partial w_0} = \\sum_i \\frac {exp\\{-y_i(\\mathbf{w} \\cdot \\mathbf{x_i})\\} * y_i} {1 + exp\\{-y_i(\\mathbf{w} \\cdot \\mathbf{x_i})\\}} \\\\\n",
    "\\frac{\\partial P\\mathcal{L}\\mathcal{L}(\\mathbf{w})}{ \\partial w_j} = \\sum_i \\frac {exp\\{-y_i(\\mathbf{w} \\cdot \\mathbf{x_i})\\} * y_i x_{i j}} {1 + exp\\{-y_i(\\mathbf{w} \\cdot \\mathbf{x_i})\\}}  - \\alpha w_j \\quad, j>0 \\\\\n",
    "$$\n",
    "    \n",
    "    \n",
    "6) **<span style='background :yellow'>(1pt)</span>**  Write out the gradient of the log-likelihood function.\n",
    "<br><br>\n",
    "    \n",
    "<font color=blue>   \n",
    "    \n",
    "$$ \n",
    "\\nabla P\\mathcal{L}\\mathcal{L}(\\mathbf{w}) = \\sum_i \\frac {exp\\{-y_i(\\mathbf{w} \\cdot \\mathbf{x_i})\\}} {1 + exp\\{-y_i(\\mathbf{w} \\cdot \\mathbf{x_i})\\}} y_i\\begin{bmatrix}  1 \\\\x_{i j} \\\\\\vdots \\\\  \\end{bmatrix} - \\begin{bmatrix} 0 \\\\\\alpha w_j  \\\\\\vdots \\\\  \\end{bmatrix}\n",
    "$$\n",
    "    \n",
    "    \n",
    "7) **<span style='background :yellow'>(1pt)</span>**  In the cell below, replace the ellipses (six of them) to update the `loglikelihood`  function such that it returns both the loglikelihood and the gradient."
   ]
  },
  {
   "cell_type": "code",
   "execution_count": 51,
   "metadata": {},
   "outputs": [],
   "source": [
    "def loglikelihood(w, X, y, alpha): \n",
    "    myval = -y*(X.dot(w));\n",
    "    tmp = 1. + np.exp(myval)        ## FILL-IN-THE-BLANK ## \n",
    "    prob = 1./tmp\n",
    "    X = X.T\n",
    "    print(y.size)\n",
    "    print(X.size)\n",
    "    gradVal = np.dot((1-tmp)*y*X, prob)\n",
    "       ## FILL-IN-THE-BLANK ## \n",
    "    penalty = alpha/2.*np.sum(w**2)  ## FILL-IN-THE-BLANK ## \n",
    "    gradPenalty = -alpha*w              ## FILL-IN-THE-BLANK ## \n",
    "    gradPenalty[0] = 0            ## FILL-IN-THE-BLANK ## \n",
    "    return -np.sum( np.log( tmp ) ) - penalty, gradVal + gradPenalty"
   ]
  },
  {
   "cell_type": "markdown",
   "metadata": {},
   "source": [
    "We will check your `loglikelihood` function by comparing the gradient it computes to numerical answers.\n",
    "<br>\n",
    "<font color=blue>\n",
    "Run the code below. If you pass, you get the point for Question 7."
   ]
  },
  {
   "cell_type": "code",
   "execution_count": 52,
   "metadata": {},
   "outputs": [
    {
     "name": "stdout",
     "output_type": "stream",
     "text": [
      "10000\n",
      "150000\n",
      "10000\n",
      "150000\n",
      "10000\n",
      "150000\n",
      "Broken partial 0  Finite Diff:  52.96534800436348  Partial:  -52.965346965251555\n",
      "10000\n",
      "150000\n",
      "10000\n",
      "150000\n",
      "Broken partial 1  Finite Diff:  149.5818214607425  Partial:  -149.58635414831232\n",
      "10000\n",
      "150000\n",
      "10000\n",
      "150000\n",
      "Broken partial 2  Finite Diff:  -168.3180680629448  Partial:  168.31545309694718\n",
      "10000\n",
      "150000\n",
      "10000\n",
      "150000\n",
      "Broken partial 3  Finite Diff:  -49.7446535518975  Partial:  49.74566872284133\n",
      "10000\n",
      "150000\n",
      "10000\n",
      "150000\n",
      "Broken partial 4  Finite Diff:  -110.87759048677981  Partial:  110.88069348888433\n",
      "10000\n",
      "150000\n",
      "10000\n",
      "150000\n",
      "Broken partial 5  Finite Diff:  -68.57122207293287  Partial:  68.573609514781\n",
      "10000\n",
      "150000\n",
      "10000\n",
      "150000\n",
      "Broken partial 6  Finite Diff:  -601.7395298840711  Partial:  601.7400595413421\n",
      "10000\n",
      "150000\n",
      "10000\n",
      "150000\n",
      "Broken partial 7  Finite Diff:  88.6970219653449  Partial:  -88.69663653566545\n",
      "10000\n",
      "150000\n",
      "10000\n",
      "150000\n",
      "Broken partial 8  Finite Diff:  26.34892734931782  Partial:  -26.34563252940658\n",
      "10000\n",
      "150000\n",
      "10000\n",
      "150000\n",
      "Broken partial 9  Finite Diff:  -113.84057688701432  Partial:  113.8423324269589\n",
      "10000\n",
      "150000\n",
      "10000\n",
      "150000\n",
      "Broken partial 10  Finite Diff:  -8.33514059195295  Partial:  8.334824135110052\n",
      "10000\n",
      "150000\n",
      "10000\n",
      "150000\n",
      "Broken partial 11  Finite Diff:  -53.42472195479786  Partial:  53.42305191878783\n",
      "10000\n",
      "150000\n",
      "10000\n",
      "150000\n",
      "Broken partial 12  Finite Diff:  -266.7606277100276  Partial:  266.76244237409117\n",
      "10000\n",
      "150000\n",
      "10000\n",
      "150000\n",
      "Broken partial 13  Finite Diff:  -125.49650637083687  Partial:  125.4968508536847\n",
      "10000\n",
      "150000\n",
      "10000\n",
      "150000\n",
      "Broken partial 14  Finite Diff:  -19.9030937437783  Partial:  19.90328556655525\n",
      "Passed test? False\n"
     ]
    }
   ],
   "source": [
    "def grad_check(f,xy0,delta=1e-6,tolerance=1e-7):\n",
    "    f0,g0 = f(xy0)\n",
    "    p = len(xy0)\n",
    "    finite_diff = np.zeros(p)\n",
    "    gradient_correct = True\n",
    "    for i in range(p):\n",
    "        xy1 = np.copy(xy0)\n",
    "        xy2 = np.copy(xy0)\n",
    "        xy1[i] = xy1[i] - 0.5*delta\n",
    "        xy2[i] = xy2[i] + 0.5*delta\n",
    "        f1,_ = f(xy1)\n",
    "        f2,_ = f(xy2)\n",
    "        finite_diff = (f2 - f1)/(delta)\n",
    "        if (abs(finite_diff - g0[i])>tolerance):\n",
    "            print(\"Broken partial\",i,\" Finite Diff: \",\n",
    "                  finite_diff,\" Partial: \",g0[i])\n",
    "            gradient_correct = False\n",
    "    return gradient_correct\n",
    "\n",
    "w_init = np.random.randn( train_data_pad.shape[1] )*0.001\n",
    "w_init[0] = 0\n",
    "g = lambda xy0: loglikelihood(xy0, X=train_data_pad[:,:15], y=trainLabel, alpha=1)\n",
    "\n",
    "did_u_pass = grad_check( g, w_init[:15], delta=1e-6, tolerance=1e-5 )\n",
    "\n",
    "print(f\"Passed test? {did_u_pass}\")"
   ]
  },
  {
   "cell_type": "markdown",
   "metadata": {},
   "source": [
    "# III. Gradient ascent fine-tuning\n",
    "We provide you with the gradient ascent function in the cell below. (ur welcome)"
   ]
  },
  {
   "cell_type": "code",
   "execution_count": null,
   "metadata": {},
   "outputs": [],
   "source": [
    "def gradient_ascent(f,x,init_step,iterations):  \n",
    "    f_val,grad = f(x)                           # compute function value and gradient \n",
    "    f_vals = [f_val]\n",
    "    for it in range(iterations):                # iterate for a fixed number of iterations\n",
    "        done = False                            # initial condition for done\n",
    "        line_search_it = 0                      # how many times we tried to shrink the step\n",
    "        step = init_step                        # reset step size to the initial size\n",
    "        while not done and line_search_it<100:  # are we done yet?\n",
    "            new_x = x + step*grad               # take a step along the gradient\n",
    "            new_f_val,new_grad = f(new_x)       # evaluate function value and gradient\n",
    "            if new_f_val<f_val:                 # did we go too far?\n",
    "                step = step*0.95                # if so, shrink the step-size\n",
    "                line_search_it += 1             # how many times did we shrank the step\n",
    "            else:\n",
    "                done = True                     # better than the last x, so we move on\n",
    "        \n",
    "        if not done:                            # did not find right step size\n",
    "            print(\"Line Search failed.\")\n",
    "        else:\n",
    "            f_val = new_f_val                   # ah, we are ok, accept the new x\n",
    "            x = new_x\n",
    "            grad = new_grad\n",
    "            f_vals.append(f_val)\n",
    "        plt.plot(f_vals)\n",
    "    plt.xlabel('Iterations')\n",
    "    plt.ylabel('Function value')\n",
    "    return f_val, x\n",
    "\n",
    "np.random.seed(12345)\n",
    "w_init = np.random.randn( train_data_pad.shape[1] )*0.001\n",
    "w_init[0] = 0\n",
    "\n",
    "def optimizeFn( init_step, iterations, alpha, w):\n",
    "    g = lambda xy0: loglikelihood(xy0, train_data_pad, trainLabel, alpha)\n",
    "    f_val, update_w = gradient_ascent( g, w, init_step, iterations )\n",
    "    return f_val, update_w"
   ]
  },
  {
   "cell_type": "markdown",
   "metadata": {},
   "source": [
    "8) **<span style='background :yellow'>(1pt)</span>** <font color=blue> In the cell below, try three different values (1e-5, 1e-6, and 1e-7) for the `init_step` variable. Then, in the provided \"ANSWER\" cell, report the final regularized log-likelihood for each of the three `init_step` values below."
   ]
  },
  {
   "cell_type": "code",
   "execution_count": null,
   "metadata": {
    "scrolled": true
   },
   "outputs": [],
   "source": [
    "f_val, update_w = optimizeFn( init_step = ..., iterations=100, alpha=0, w = w_init)\n",
    "%time"
   ]
  },
  {
   "cell_type": "markdown",
   "metadata": {},
   "source": [
    "#### *ANSWER to Q8:* \n",
    "<font color=blue>\n",
    "    \n",
    "* Final $P\\mathcal{L}\\mathcal{L}$ for 1e-5 = ...\n",
    "* Final $P\\mathcal{L}\\mathcal{L}$ for 1e-6 = ...\n",
    "* Final $P\\mathcal{L}\\mathcal{L}$ for 1e-7 = ..."
   ]
  },
  {
   "cell_type": "markdown",
   "metadata": {},
   "source": [
    "# IV. Prediction, hyperparameter tuning, and evaluation\n",
    "\n",
    "To evaluate the performance of our model we need to have a prediction function. This function will use our trained model to predict whether reviews are positive or negative."
   ]
  },
  {
   "cell_type": "markdown",
   "metadata": {},
   "source": [
    "9) **<span style='background :yellow'>(1pt)</span>** <font color=blue> In the cell below, replace the ellipses (three of them) with code to complete the `prediction` function. The inputs are (1) feature weights and (2) the feature matrix. The return value is a vector of predicted labels."
   ]
  },
  {
   "cell_type": "code",
   "execution_count": null,
   "metadata": {},
   "outputs": [],
   "source": [
    "def prediction(w, validData ):\n",
    "    prob = 1./(1+np.exp( ... ))         ## FILL-IN-THE-BLANK ## \n",
    "    res = np.zeros(validData.shape[0])\n",
    "    res[prob>=...] = ...                ## FILL-IN-THE-BLANK ## \n",
    "    res[prob<...] = ...                 ## FILL-IN-THE-BLANK ## \n",
    "    return res"
   ]
  },
  {
   "cell_type": "markdown",
   "metadata": {},
   "source": [
    "10) **<span style='background :yellow'>(1pt)</span>** <font color=blue> In the cell below, try different values for the `alpha` variable (1000, 2000, 3000). Then, in the provided \"ANSWER\" cell, report which of the three produces the model that has the best accuracy on the validation set."
   ]
  },
  {
   "cell_type": "code",
   "execution_count": 56,
   "metadata": {
    "scrolled": true
   },
   "outputs": [
    {
     "ename": "NameError",
     "evalue": "name 'prediction' is not defined",
     "output_type": "error",
     "traceback": [
      "\u001b[1;31m---------------------------------------------------------------------------\u001b[0m",
      "\u001b[1;31mNameError\u001b[0m                                 Traceback (most recent call last)",
      "\u001b[1;32m~\\AppData\\Local\\Temp/ipykernel_14444/3675954151.py\u001b[0m in \u001b[0;36m<module>\u001b[1;34m\u001b[0m\n\u001b[0;32m      1\u001b[0m \u001b[1;31m#f_val, update_w=optimizeFn( init_step = 1e-5, iterations=100, alpha=..., w=w_init)\u001b[0m\u001b[1;33m\u001b[0m\u001b[1;33m\u001b[0m\u001b[0m\n\u001b[1;32m----> 2\u001b[1;33m \u001b[0mpred\u001b[0m \u001b[1;33m=\u001b[0m \u001b[0mprediction\u001b[0m\u001b[1;33m(\u001b[0m\u001b[0mupdate_w\u001b[0m\u001b[1;33m,\u001b[0m \u001b[0mvalid_data_pad\u001b[0m\u001b[1;33m)\u001b[0m\u001b[1;33m\u001b[0m\u001b[1;33m\u001b[0m\u001b[0m\n\u001b[0m\u001b[0;32m      3\u001b[0m \u001b[0mprint\u001b[0m\u001b[1;33m(\u001b[0m\u001b[0mvalid_data_pad\u001b[0m\u001b[1;33m)\u001b[0m\u001b[1;33m;\u001b[0m\u001b[1;33m\u001b[0m\u001b[1;33m\u001b[0m\u001b[0m\n\u001b[0;32m      4\u001b[0m \u001b[0mprint\u001b[0m\u001b[1;33m(\u001b[0m \u001b[1;34m'Accuracy on the validation set: {:.2f}%'\u001b[0m\u001b[1;33m.\u001b[0m\u001b[0mformat\u001b[0m\u001b[1;33m(\u001b[0m \u001b[1;36m100.\u001b[0m\u001b[1;33m*\u001b[0m\u001b[0mnp\u001b[0m\u001b[1;33m.\u001b[0m\u001b[0mmean\u001b[0m\u001b[1;33m(\u001b[0m\u001b[0mpred\u001b[0m\u001b[1;33m==\u001b[0m\u001b[0mvalidLabel\u001b[0m\u001b[1;33m)\u001b[0m\u001b[1;33m)\u001b[0m \u001b[1;33m)\u001b[0m\u001b[1;33m\u001b[0m\u001b[1;33m\u001b[0m\u001b[0m\n",
      "\u001b[1;31mNameError\u001b[0m: name 'prediction' is not defined"
     ]
    }
   ],
   "source": [
    "#f_val, update_w=optimizeFn( init_step = 1e-5, iterations=100, alpha=..., w=w_init)\n",
    "pred = prediction(update_w, valid_data_pad)\n",
    "print(valid_data_pad);\n",
    "print( 'Accuracy on the validation set: {:.2f}%'.format( 100.*np.mean(pred==validLabel)) )"
   ]
  },
  {
   "cell_type": "markdown",
   "metadata": {},
   "source": [
    "#### *ANSWER to Q10:* \n",
    "<font color=blue> \n",
    "The best alpha is ..., and the accuracy of this alpha is ..."
   ]
  },
  {
   "cell_type": "markdown",
   "metadata": {},
   "source": [
    "11) **<span style='background :yellow'>(1pt)</span>** <font color=blue> We would like to know which samples in the validation set are misclassifed with high probability (that is, >90%).\n",
    "    \n",
    "<font color=blue>To accomplish this you must replace the ellipses with code, in the cell below, to implement `computeProb`. Additionally, you must write code to retrieve indices of samples that are misclassified; these indices are designated as `wrong_idx_high` in the cell below.\n",
    "      \n",
    "<font color=blue>After writing your code, report the indices for all samples that result in high-confidence misclassifcations in the provided \"ANSWER\" cell. "
   ]
  },
  {
   "cell_type": "code",
   "execution_count": 58,
   "metadata": {},
   "outputs": [
    {
     "name": "stdout",
     "output_type": "stream",
     "text": [
      "[ 1.         -0.20742753 -0.23314449 ... -0.12605768 -0.0763445\n",
      " -0.07788666]\n"
     ]
    }
   ],
   "source": [
    "# Command to get the samples that are predicted wrong\n",
    "#wrong_idx = np.nonzero( validLabel != pred )[0]\n",
    "#print(wrong_idx);\n",
    "\n",
    "print(valid_data_pad[0])\n",
    "# Function to compute probability\n",
    "def computeProb(w, validData ):\n",
    "    prob = 1./(1+np.exp( ... ))  ## FILL-IN-THE-BLANK ## \n",
    "    return prob\n",
    "\n",
    "# Get samples that are classified wrong and with probabilites > 0.9\n",
    "#probs = computeProb(update_w, valid_data_pad)\n",
    "#wrong_idx_high = ...            ## FILL-IN-THE-BLANK ## \n",
    "#print(wrong_idx_high)"
   ]
  },
  {
   "cell_type": "markdown",
   "metadata": {},
   "source": [
    "#### *ANSWER to Q11:* \n",
    "<font color=blue>\n",
    "    \n",
    "The indices corresponding to high-confidence misclassified samples are ... "
   ]
  },
  {
   "cell_type": "markdown",
   "metadata": {},
   "source": [
    "12) **<span style='background :yellow'>(1pt)</span>** <font color=blue> Choose one of the misclassified indices from above and set it equal to `sampleIdx` in the cell below. Then in the provided \"ANSWER\" cell, report the words (entries in `vocab_list` associated with that feature) that cause the selected sample  to be misclassified. </font> (Just fyi: Weight $w[i]$ correponds to word `vocab_list[i-1]`, because we included bias term in $w$.)"
   ]
  },
  {
   "cell_type": "code",
   "execution_count": null,
   "metadata": {},
   "outputs": [],
   "source": [
    "sampleIdx = ...\n",
    "\n",
    "# This function returns a list of top 10 words that influence the prediction.\n",
    "def getMostImportantFeatures( sampleIdx, validData, update_w, vocab_list ):\n",
    "    confusedList = []\n",
    "    intensity = validData[[sampleIdx],:]*update_w\n",
    "    tmp = np.argsort( np.abs(intensity[0,:]) )[::-1]\n",
    "    for j in np.arange(10):\n",
    "        confusedList.append(vocab_list[tmp[j]-1])\n",
    "    return confusedList\n",
    "\n",
    "confusedList = getMostImportantFeatures( sampleIdx, valid_data_pad, update_w, vocab_list)\n",
    "print(confusedList)"
   ]
  },
  {
   "cell_type": "markdown",
   "metadata": {},
   "source": [
    "#### *ANSWER to Q12:* \n",
    "<font color=blue>\n",
    "    \n",
    "The \"confusing\" words for the chosen review are ... "
   ]
  },
  {
   "cell_type": "markdown",
   "metadata": {},
   "source": [
    "As a sanity check, you can read the review (by going to the URL printed below) and check if it is hard to classify."
   ]
  },
  {
   "cell_type": "code",
   "execution_count": null,
   "metadata": {},
   "outputs": [],
   "source": [
    "train_id = pickle.load( gzip.open( \"train_id.pgz\", \"rb\" ) )\n",
    "valid_id = train_id[10000:15000]\n",
    "\n",
    "fileName = valid_id[sampleIdx]\n",
    "fileUrl = \"https://wwwx.cs.unc.edu/Courses/comp755-f18/hw1/reviews/\" + fileName + '.txt'\n",
    "print(fileUrl)"
   ]
  },
  {
   "cell_type": "code",
   "execution_count": null,
   "metadata": {},
   "outputs": [],
   "source": []
  }
 ],
 "metadata": {
  "anaconda-cloud": {},
  "kernelspec": {
   "display_name": "Python 3 (ipykernel)",
   "language": "python",
   "name": "python3"
  },
  "language_info": {
   "codemirror_mode": {
    "name": "ipython",
    "version": 3
   },
   "file_extension": ".py",
   "mimetype": "text/x-python",
   "name": "python",
   "nbconvert_exporter": "python",
   "pygments_lexer": "ipython3",
   "version": "3.9.7"
  }
 },
 "nbformat": 4,
 "nbformat_minor": 4
}
